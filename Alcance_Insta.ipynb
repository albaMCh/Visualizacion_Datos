{
  "nbformat": 4,
  "nbformat_minor": 0,
  "metadata": {
    "colab": {
      "provenance": [],
      "include_colab_link": true
    },
    "kernelspec": {
      "name": "python3",
      "display_name": "Python 3"
    },
    "language_info": {
      "name": "python"
    }
  },
  "cells": [
    {
      "cell_type": "markdown",
      "metadata": {
        "id": "view-in-github",
        "colab_type": "text"
      },
      "source": [
        "<a href=\"https://colab.research.google.com/github/albaMCh/Visualizacion_Datos/blob/main/Alcance_Insta.ipynb\" target=\"_parent\"><img src=\"https://colab.research.google.com/assets/colab-badge.svg\" alt=\"Open In Colab\"/></a>"
      ]
    },
    {
      "cell_type": "markdown",
      "source": [
        "#Introducción\n",
        "\n",
        "Instagram es una de las aplicaciones de redes sociales más populares hoy en día. Las personas que utilizan Instagram profesionalmente lo hacen para promocionar su negocio, crear un portafolio, bloguear y crear varios tipos de contenido. Como Instagram es una aplicación popular utilizada por millones de personas con diferentes nichos, Instagram sigue cambiando para mejorar para los creadores de contenido y los usuarios. Pero como esto sigue cambiando, afecta al alcance de nuestras publicaciones que nos afecta a largo plazo. Así que si un creador de contenido quiere hacerlo bien en Instagram a largo plazo, tiene que mirar los datos de su alcance en Instagram. Ahí es donde entra el uso de la Ciencia de Datos en las redes sociales. \n",
        "\n",
        "Si quieres analizar el alcance de tu cuenta de Instagram, tienes que recopilar tus datos manualmente ya que hay algunas APIs, pero no funcionan bien. Así que es mejor recopilar tus datos de Instagram manualmente.\n",
        "\n",
        "Puedes descargar el conjunto de datos que utilizaremos para el proyecto de análisis de alcance de Instagram desde aquí:\n",
        "\n",
        "https://raw.githubusercontent.com/amankharwal/Website-data/master/Instagram.csv\n",
        "\n",
        "\n",
        "Los datos pertenecen a la cuenta the.clever.programmer, que cuenta con 17.9k seguidores."
      ],
      "metadata": {
        "id": "D2i3wvWtiK7B"
      }
    },
    {
      "cell_type": "code",
      "execution_count": null,
      "metadata": {
        "id": "zz5INoiGhyD1",
        "colab": {
          "base_uri": "https://localhost:8080/"
        },
        "outputId": "97a9ef85-0f3b-4949-a96e-7bdd74686ea3"
      },
      "outputs": [
        {
          "output_type": "stream",
          "name": "stdout",
          "text": [
            "   Impressions  From Home  From Hashtags  From Explore  From Other  Saves  \\\n",
            "0       3920.0     2586.0         1028.0         619.0        56.0   98.0   \n",
            "1       5394.0     2727.0         1838.0        1174.0        78.0  194.0   \n",
            "2       4021.0     2085.0         1188.0           0.0       533.0   41.0   \n",
            "3       4528.0     2700.0          621.0         932.0        73.0  172.0   \n",
            "4       2518.0     1704.0          255.0         279.0        37.0   96.0   \n",
            "\n",
            "   Comments  Shares  Likes  Profile Visits  Follows  \\\n",
            "0       9.0     5.0  162.0            35.0      2.0   \n",
            "1       7.0    14.0  224.0            48.0     10.0   \n",
            "2      11.0     1.0  131.0            62.0     12.0   \n",
            "3      10.0     7.0  213.0            23.0      8.0   \n",
            "4       5.0     4.0  123.0             8.0      0.0   \n",
            "\n",
            "                                             Caption  \\\n",
            "0  Here are some of the most important data visua...   \n",
            "1  Here are some of the best data science project...   \n",
            "2  Learn how to train a machine learning model an...   \n",
            "3  Heres how you can write a Python program to d...   \n",
            "4  Plotting annotations while visualizing your da...   \n",
            "\n",
            "                                            Hashtags  \n",
            "0  #finance #money #business #investing #investme...  \n",
            "1  #healthcare #health #covid #data #datascience ...  \n",
            "2  #data #datascience #dataanalysis #dataanalytic...  \n",
            "3  #python #pythonprogramming #pythonprojects #py...  \n",
            "4  #datavisualization #datascience #data #dataana...  \n"
          ]
        }
      ],
      "source": [
        "import pandas as pd\n",
        "import numpy as np\n",
        "import matplotlib.pyplot as plt\n",
        "\n",
        "\n",
        "data = pd.read_csv(\"https://raw.githubusercontent.com/amankharwal/Website-data/master/Instagram.csv\", encoding = 'latin1')\n",
        "print(data.head())"
      ]
    },
    {
      "cell_type": "markdown",
      "source": [
        "Lo primero que debes hacer es buscar cuantos valores nulos hay en cada columna."
      ],
      "metadata": {
        "id": "hbG1bDiljK2U"
      }
    },
    {
      "cell_type": "code",
      "source": [
        "data.isnull().sum()"
      ],
      "metadata": {
        "id": "zu7a69hRjSyq",
        "colab": {
          "base_uri": "https://localhost:8080/"
        },
        "outputId": "297ddaf2-daf2-4251-d6d6-4c7d6cf3cfaa"
      },
      "execution_count": null,
      "outputs": [
        {
          "output_type": "execute_result",
          "data": {
            "text/plain": [
              "Impressions       1\n",
              "From Home         1\n",
              "From Hashtags     1\n",
              "From Explore      1\n",
              "From Other        1\n",
              "Saves             1\n",
              "Comments          1\n",
              "Shares            1\n",
              "Likes             1\n",
              "Profile Visits    1\n",
              "Follows           1\n",
              "Caption           1\n",
              "Hashtags          1\n",
              "dtype: int64"
            ]
          },
          "metadata": {},
          "execution_count": 2
        }
      ]
    },
    {
      "cell_type": "markdown",
      "source": [
        "Vamos a comprobar cuantas filas contiene el dataset para ver si podríamos eliminar los valores nulos directamente o perderíamos mucha información."
      ],
      "metadata": {
        "id": "EdGh-z3kjaRq"
      }
    },
    {
      "cell_type": "code",
      "source": [
        "len(data)"
      ],
      "metadata": {
        "id": "Lz3qEBOojxOw",
        "colab": {
          "base_uri": "https://localhost:8080/"
        },
        "outputId": "67addf49-e127-4cd5-b772-2fef9578b98b"
      },
      "execution_count": null,
      "outputs": [
        {
          "output_type": "execute_result",
          "data": {
            "text/plain": [
              "100"
            ]
          },
          "metadata": {},
          "execution_count": 3
        }
      ]
    },
    {
      "cell_type": "markdown",
      "source": [
        "Dado que tiene 100 filas podemos permitirnos el lujo de eliminar los datos nulos."
      ],
      "metadata": {
        "id": "5LY1DGUZjup4"
      }
    },
    {
      "cell_type": "code",
      "source": [
        "data.dropna()"
      ],
      "metadata": {
        "id": "3oHQau_Gj8mP",
        "colab": {
          "base_uri": "https://localhost:8080/",
          "height": 820
        },
        "outputId": "003c05f0-ba50-4976-df82-f6a8f3fb53dc"
      },
      "execution_count": null,
      "outputs": [
        {
          "output_type": "execute_result",
          "data": {
            "text/plain": [
              "    Impressions  From Home  From Hashtags  From Explore  From Other  Saves  \\\n",
              "0        3920.0     2586.0         1028.0         619.0        56.0   98.0   \n",
              "1        5394.0     2727.0         1838.0        1174.0        78.0  194.0   \n",
              "2        4021.0     2085.0         1188.0           0.0       533.0   41.0   \n",
              "3        4528.0     2700.0          621.0         932.0        73.0  172.0   \n",
              "4        2518.0     1704.0          255.0         279.0        37.0   96.0   \n",
              "..          ...        ...            ...           ...         ...    ...   \n",
              "94       4082.0     2195.0         1248.0         541.0        36.0  135.0   \n",
              "95       5394.0     2275.0         2975.0          45.0        65.0   61.0   \n",
              "96       2766.0     2541.0          116.0          51.0         9.0   40.0   \n",
              "97       3924.0     2244.0         1278.0         326.0        34.0  139.0   \n",
              "98       3015.0     2034.0          771.0         115.0        41.0   52.0   \n",
              "\n",
              "    Comments  Shares  Likes  Profile Visits  Follows  \\\n",
              "0        9.0     5.0  162.0            35.0      2.0   \n",
              "1        7.0    14.0  224.0            48.0     10.0   \n",
              "2       11.0     1.0  131.0            62.0     12.0   \n",
              "3       10.0     7.0  213.0            23.0      8.0   \n",
              "4        5.0     4.0  123.0             8.0      0.0   \n",
              "..       ...     ...    ...             ...      ...   \n",
              "94      11.0     5.0  175.0            19.0      6.0   \n",
              "95      19.0     6.0  147.0            69.0      6.0   \n",
              "96      10.0     4.0  114.0            11.0      6.0   \n",
              "97      11.0     3.0  151.0            19.0      2.0   \n",
              "98      11.0     4.0   92.0             9.0      2.0   \n",
              "\n",
              "                                              Caption  \\\n",
              "0   Here are some of the most important data visua...   \n",
              "1   Here are some of the best data science project...   \n",
              "2   Learn how to train a machine learning model an...   \n",
              "3   Heres how you can write a Python program to d...   \n",
              "4   Plotting annotations while visualizing your da...   \n",
              "..                                                ...   \n",
              "94  Deep learning is a subset of machine learning ...   \n",
              "95  You must have heard or invested in any cryptoc...   \n",
              "96  Here are all the programming languages that Fa...   \n",
              "97  Here are some of the most popular data science...   \n",
              "98  Heres how Amazon uses your data as an e-comme...   \n",
              "\n",
              "                                             Hashtags  \n",
              "0   #finance #money #business #investing #investme...  \n",
              "1   #healthcare #health #covid #data #datascience ...  \n",
              "2   #data #datascience #dataanalysis #dataanalytic...  \n",
              "3   #python #pythonprogramming #pythonprojects #py...  \n",
              "4   #datavisualization #datascience #data #dataana...  \n",
              "..                                                ...  \n",
              "94  #deeplearning #machinelearning #artificialinte...  \n",
              "95  #data #datascience #dataanalysis #dataanalytic...  \n",
              "96  #programming #coding #programmer #python #deve...  \n",
              "97  #data #datascience #dataanalysis #dataanalytic...  \n",
              "98  #data #datascience #dataanalysis #dataanalytic...  \n",
              "\n",
              "[99 rows x 13 columns]"
            ],
            "text/html": [
              "\n",
              "  <div id=\"df-a0c5c161-c5ef-4877-82c3-1a9e9f858850\">\n",
              "    <div class=\"colab-df-container\">\n",
              "      <div>\n",
              "<style scoped>\n",
              "    .dataframe tbody tr th:only-of-type {\n",
              "        vertical-align: middle;\n",
              "    }\n",
              "\n",
              "    .dataframe tbody tr th {\n",
              "        vertical-align: top;\n",
              "    }\n",
              "\n",
              "    .dataframe thead th {\n",
              "        text-align: right;\n",
              "    }\n",
              "</style>\n",
              "<table border=\"1\" class=\"dataframe\">\n",
              "  <thead>\n",
              "    <tr style=\"text-align: right;\">\n",
              "      <th></th>\n",
              "      <th>Impressions</th>\n",
              "      <th>From Home</th>\n",
              "      <th>From Hashtags</th>\n",
              "      <th>From Explore</th>\n",
              "      <th>From Other</th>\n",
              "      <th>Saves</th>\n",
              "      <th>Comments</th>\n",
              "      <th>Shares</th>\n",
              "      <th>Likes</th>\n",
              "      <th>Profile Visits</th>\n",
              "      <th>Follows</th>\n",
              "      <th>Caption</th>\n",
              "      <th>Hashtags</th>\n",
              "    </tr>\n",
              "  </thead>\n",
              "  <tbody>\n",
              "    <tr>\n",
              "      <th>0</th>\n",
              "      <td>3920.0</td>\n",
              "      <td>2586.0</td>\n",
              "      <td>1028.0</td>\n",
              "      <td>619.0</td>\n",
              "      <td>56.0</td>\n",
              "      <td>98.0</td>\n",
              "      <td>9.0</td>\n",
              "      <td>5.0</td>\n",
              "      <td>162.0</td>\n",
              "      <td>35.0</td>\n",
              "      <td>2.0</td>\n",
              "      <td>Here are some of the most important data visua...</td>\n",
              "      <td>#finance #money #business #investing #investme...</td>\n",
              "    </tr>\n",
              "    <tr>\n",
              "      <th>1</th>\n",
              "      <td>5394.0</td>\n",
              "      <td>2727.0</td>\n",
              "      <td>1838.0</td>\n",
              "      <td>1174.0</td>\n",
              "      <td>78.0</td>\n",
              "      <td>194.0</td>\n",
              "      <td>7.0</td>\n",
              "      <td>14.0</td>\n",
              "      <td>224.0</td>\n",
              "      <td>48.0</td>\n",
              "      <td>10.0</td>\n",
              "      <td>Here are some of the best data science project...</td>\n",
              "      <td>#healthcare #health #covid #data #datascience ...</td>\n",
              "    </tr>\n",
              "    <tr>\n",
              "      <th>2</th>\n",
              "      <td>4021.0</td>\n",
              "      <td>2085.0</td>\n",
              "      <td>1188.0</td>\n",
              "      <td>0.0</td>\n",
              "      <td>533.0</td>\n",
              "      <td>41.0</td>\n",
              "      <td>11.0</td>\n",
              "      <td>1.0</td>\n",
              "      <td>131.0</td>\n",
              "      <td>62.0</td>\n",
              "      <td>12.0</td>\n",
              "      <td>Learn how to train a machine learning model an...</td>\n",
              "      <td>#data #datascience #dataanalysis #dataanalytic...</td>\n",
              "    </tr>\n",
              "    <tr>\n",
              "      <th>3</th>\n",
              "      <td>4528.0</td>\n",
              "      <td>2700.0</td>\n",
              "      <td>621.0</td>\n",
              "      <td>932.0</td>\n",
              "      <td>73.0</td>\n",
              "      <td>172.0</td>\n",
              "      <td>10.0</td>\n",
              "      <td>7.0</td>\n",
              "      <td>213.0</td>\n",
              "      <td>23.0</td>\n",
              "      <td>8.0</td>\n",
              "      <td>Heres how you can write a Python program to d...</td>\n",
              "      <td>#python #pythonprogramming #pythonprojects #py...</td>\n",
              "    </tr>\n",
              "    <tr>\n",
              "      <th>4</th>\n",
              "      <td>2518.0</td>\n",
              "      <td>1704.0</td>\n",
              "      <td>255.0</td>\n",
              "      <td>279.0</td>\n",
              "      <td>37.0</td>\n",
              "      <td>96.0</td>\n",
              "      <td>5.0</td>\n",
              "      <td>4.0</td>\n",
              "      <td>123.0</td>\n",
              "      <td>8.0</td>\n",
              "      <td>0.0</td>\n",
              "      <td>Plotting annotations while visualizing your da...</td>\n",
              "      <td>#datavisualization #datascience #data #dataana...</td>\n",
              "    </tr>\n",
              "    <tr>\n",
              "      <th>...</th>\n",
              "      <td>...</td>\n",
              "      <td>...</td>\n",
              "      <td>...</td>\n",
              "      <td>...</td>\n",
              "      <td>...</td>\n",
              "      <td>...</td>\n",
              "      <td>...</td>\n",
              "      <td>...</td>\n",
              "      <td>...</td>\n",
              "      <td>...</td>\n",
              "      <td>...</td>\n",
              "      <td>...</td>\n",
              "      <td>...</td>\n",
              "    </tr>\n",
              "    <tr>\n",
              "      <th>94</th>\n",
              "      <td>4082.0</td>\n",
              "      <td>2195.0</td>\n",
              "      <td>1248.0</td>\n",
              "      <td>541.0</td>\n",
              "      <td>36.0</td>\n",
              "      <td>135.0</td>\n",
              "      <td>11.0</td>\n",
              "      <td>5.0</td>\n",
              "      <td>175.0</td>\n",
              "      <td>19.0</td>\n",
              "      <td>6.0</td>\n",
              "      <td>Deep learning is a subset of machine learning ...</td>\n",
              "      <td>#deeplearning #machinelearning #artificialinte...</td>\n",
              "    </tr>\n",
              "    <tr>\n",
              "      <th>95</th>\n",
              "      <td>5394.0</td>\n",
              "      <td>2275.0</td>\n",
              "      <td>2975.0</td>\n",
              "      <td>45.0</td>\n",
              "      <td>65.0</td>\n",
              "      <td>61.0</td>\n",
              "      <td>19.0</td>\n",
              "      <td>6.0</td>\n",
              "      <td>147.0</td>\n",
              "      <td>69.0</td>\n",
              "      <td>6.0</td>\n",
              "      <td>You must have heard or invested in any cryptoc...</td>\n",
              "      <td>#data #datascience #dataanalysis #dataanalytic...</td>\n",
              "    </tr>\n",
              "    <tr>\n",
              "      <th>96</th>\n",
              "      <td>2766.0</td>\n",
              "      <td>2541.0</td>\n",
              "      <td>116.0</td>\n",
              "      <td>51.0</td>\n",
              "      <td>9.0</td>\n",
              "      <td>40.0</td>\n",
              "      <td>10.0</td>\n",
              "      <td>4.0</td>\n",
              "      <td>114.0</td>\n",
              "      <td>11.0</td>\n",
              "      <td>6.0</td>\n",
              "      <td>Here are all the programming languages that Fa...</td>\n",
              "      <td>#programming #coding #programmer #python #deve...</td>\n",
              "    </tr>\n",
              "    <tr>\n",
              "      <th>97</th>\n",
              "      <td>3924.0</td>\n",
              "      <td>2244.0</td>\n",
              "      <td>1278.0</td>\n",
              "      <td>326.0</td>\n",
              "      <td>34.0</td>\n",
              "      <td>139.0</td>\n",
              "      <td>11.0</td>\n",
              "      <td>3.0</td>\n",
              "      <td>151.0</td>\n",
              "      <td>19.0</td>\n",
              "      <td>2.0</td>\n",
              "      <td>Here are some of the most popular data science...</td>\n",
              "      <td>#data #datascience #dataanalysis #dataanalytic...</td>\n",
              "    </tr>\n",
              "    <tr>\n",
              "      <th>98</th>\n",
              "      <td>3015.0</td>\n",
              "      <td>2034.0</td>\n",
              "      <td>771.0</td>\n",
              "      <td>115.0</td>\n",
              "      <td>41.0</td>\n",
              "      <td>52.0</td>\n",
              "      <td>11.0</td>\n",
              "      <td>4.0</td>\n",
              "      <td>92.0</td>\n",
              "      <td>9.0</td>\n",
              "      <td>2.0</td>\n",
              "      <td>Heres how Amazon uses your data as an e-comme...</td>\n",
              "      <td>#data #datascience #dataanalysis #dataanalytic...</td>\n",
              "    </tr>\n",
              "  </tbody>\n",
              "</table>\n",
              "<p>99 rows × 13 columns</p>\n",
              "</div>\n",
              "      <button class=\"colab-df-convert\" onclick=\"convertToInteractive('df-a0c5c161-c5ef-4877-82c3-1a9e9f858850')\"\n",
              "              title=\"Convert this dataframe to an interactive table.\"\n",
              "              style=\"display:none;\">\n",
              "        \n",
              "  <svg xmlns=\"http://www.w3.org/2000/svg\" height=\"24px\"viewBox=\"0 0 24 24\"\n",
              "       width=\"24px\">\n",
              "    <path d=\"M0 0h24v24H0V0z\" fill=\"none\"/>\n",
              "    <path d=\"M18.56 5.44l.94 2.06.94-2.06 2.06-.94-2.06-.94-.94-2.06-.94 2.06-2.06.94zm-11 1L8.5 8.5l.94-2.06 2.06-.94-2.06-.94L8.5 2.5l-.94 2.06-2.06.94zm10 10l.94 2.06.94-2.06 2.06-.94-2.06-.94-.94-2.06-.94 2.06-2.06.94z\"/><path d=\"M17.41 7.96l-1.37-1.37c-.4-.4-.92-.59-1.43-.59-.52 0-1.04.2-1.43.59L10.3 9.45l-7.72 7.72c-.78.78-.78 2.05 0 2.83L4 21.41c.39.39.9.59 1.41.59.51 0 1.02-.2 1.41-.59l7.78-7.78 2.81-2.81c.8-.78.8-2.07 0-2.86zM5.41 20L4 18.59l7.72-7.72 1.47 1.35L5.41 20z\"/>\n",
              "  </svg>\n",
              "      </button>\n",
              "      \n",
              "  <style>\n",
              "    .colab-df-container {\n",
              "      display:flex;\n",
              "      flex-wrap:wrap;\n",
              "      gap: 12px;\n",
              "    }\n",
              "\n",
              "    .colab-df-convert {\n",
              "      background-color: #E8F0FE;\n",
              "      border: none;\n",
              "      border-radius: 50%;\n",
              "      cursor: pointer;\n",
              "      display: none;\n",
              "      fill: #1967D2;\n",
              "      height: 32px;\n",
              "      padding: 0 0 0 0;\n",
              "      width: 32px;\n",
              "    }\n",
              "\n",
              "    .colab-df-convert:hover {\n",
              "      background-color: #E2EBFA;\n",
              "      box-shadow: 0px 1px 2px rgba(60, 64, 67, 0.3), 0px 1px 3px 1px rgba(60, 64, 67, 0.15);\n",
              "      fill: #174EA6;\n",
              "    }\n",
              "\n",
              "    [theme=dark] .colab-df-convert {\n",
              "      background-color: #3B4455;\n",
              "      fill: #D2E3FC;\n",
              "    }\n",
              "\n",
              "    [theme=dark] .colab-df-convert:hover {\n",
              "      background-color: #434B5C;\n",
              "      box-shadow: 0px 1px 3px 1px rgba(0, 0, 0, 0.15);\n",
              "      filter: drop-shadow(0px 1px 2px rgba(0, 0, 0, 0.3));\n",
              "      fill: #FFFFFF;\n",
              "    }\n",
              "  </style>\n",
              "\n",
              "      <script>\n",
              "        const buttonEl =\n",
              "          document.querySelector('#df-a0c5c161-c5ef-4877-82c3-1a9e9f858850 button.colab-df-convert');\n",
              "        buttonEl.style.display =\n",
              "          google.colab.kernel.accessAllowed ? 'block' : 'none';\n",
              "\n",
              "        async function convertToInteractive(key) {\n",
              "          const element = document.querySelector('#df-a0c5c161-c5ef-4877-82c3-1a9e9f858850');\n",
              "          const dataTable =\n",
              "            await google.colab.kernel.invokeFunction('convertToInteractive',\n",
              "                                                     [key], {});\n",
              "          if (!dataTable) return;\n",
              "\n",
              "          const docLinkHtml = 'Like what you see? Visit the ' +\n",
              "            '<a target=\"_blank\" href=https://colab.research.google.com/notebooks/data_table.ipynb>data table notebook</a>'\n",
              "            + ' to learn more about interactive tables.';\n",
              "          element.innerHTML = '';\n",
              "          dataTable['output_type'] = 'display_data';\n",
              "          await google.colab.output.renderOutput(dataTable, element);\n",
              "          const docLink = document.createElement('div');\n",
              "          docLink.innerHTML = docLinkHtml;\n",
              "          element.appendChild(docLink);\n",
              "        }\n",
              "      </script>\n",
              "    </div>\n",
              "  </div>\n",
              "  "
            ]
          },
          "metadata": {},
          "execution_count": 4
        }
      ]
    },
    {
      "cell_type": "markdown",
      "source": [
        "Por último comprueba que tipo de datos contiene cada columna."
      ],
      "metadata": {
        "id": "wvJ51XYgj5MA"
      }
    },
    {
      "cell_type": "code",
      "source": [
        "data.dtypes"
      ],
      "metadata": {
        "id": "8vvXLK_ZkQ6n",
        "colab": {
          "base_uri": "https://localhost:8080/"
        },
        "outputId": "8f968dbc-6de3-452f-a05b-f97f146cea94"
      },
      "execution_count": null,
      "outputs": [
        {
          "output_type": "execute_result",
          "data": {
            "text/plain": [
              "Impressions       float64\n",
              "From Home         float64\n",
              "From Hashtags     float64\n",
              "From Explore      float64\n",
              "From Other        float64\n",
              "Saves             float64\n",
              "Comments          float64\n",
              "Shares            float64\n",
              "Likes             float64\n",
              "Profile Visits    float64\n",
              "Follows           float64\n",
              "Caption            object\n",
              "Hashtags           object\n",
              "dtype: object"
            ]
          },
          "metadata": {},
          "execution_count": 6
        }
      ]
    },
    {
      "cell_type": "markdown",
      "source": [
        "#Pregunta 1\n",
        "\n",
        "Una vez realizado el análisis preliminar de los datos vamos a realizar diferentes gráficas para responder preguntas como:\n",
        "\n",
        "¿Las impresiones desde la pestaña Inicio (Home/TimeLine) siguen alguna distribución?\n",
        "\n",
        "Realiza un histograma y/o un gráfico de densidad (recuerda que debes importar seaborn) de los datos de la columna 'From Home' y almacena en la variable solución_1 la letra correspondiente a la distribución que más se asemeja:\n",
        "\n",
        "a) Exponencial\n",
        "\n",
        "b) Normal\n",
        "\n",
        "c) Geométrica\n",
        "\n",
        "d) Uniforme\n",
        "\n"
      ],
      "metadata": {
        "id": "MR74Vqr5kjO9"
      }
    },
    {
      "cell_type": "code",
      "source": [
        "plt.hist(data['From Home'])\n",
        "plt.show()"
      ],
      "metadata": {
        "id": "B4m_uFKTlmsJ",
        "colab": {
          "base_uri": "https://localhost:8080/",
          "height": 268
        },
        "outputId": "a8513714-6968-4705-c565-96ebe5599fa0"
      },
      "execution_count": null,
      "outputs": [
        {
          "output_type": "display_data",
          "data": {
            "text/plain": [
              "<Figure size 432x288 with 1 Axes>"
            ],
            "image/png": "[encoded data removed]"
          },
          "metadata": {
            "needs_background": "light"
          }
        }
      ]
    },
    {
      "cell_type": "code",
      "source": [
        "solucion_1='b'"
      ],
      "metadata": {
        "id": "dtqhazoMoA1H"
      },
      "execution_count": null,
      "outputs": []
    },
    {
      "cell_type": "markdown",
      "source": [
        "#Pregunta 2\n",
        "\n",
        "Vamos a realizar el mismo análisis pero con las impresiones recibidas a traves de los hashtags, que son herramientas que utilizamos para categorizar nuestras publicaciones en Instagram y así poder llegar a más personas en función del tipo de contenido que estamos creando.\n",
        "\n",
        "Realiza un histograma y/o un gráfico de densidad (recuerda que debes importar seaborn) de la columna 'From Hashtags' y almacena en la variable solución_2 la letra correspondiente a la distribución que más se asemeja:\n",
        "\n",
        "a) Exponencial\n",
        "\n",
        "b) Normal\n",
        "\n",
        "c) Geométrica\n",
        "\n",
        "d) Uniforme"
      ],
      "metadata": {
        "id": "UeS7C8Hrpoao"
      }
    },
    {
      "cell_type": "code",
      "source": [
        "plt.hist(data['From Hashtags'])\n",
        "plt.show()"
      ],
      "metadata": {
        "id": "ymBXG4q8qhV8",
        "colab": {
          "base_uri": "https://localhost:8080/",
          "height": 265
        },
        "outputId": "f4d97d48-5a0a-4aa1-e4b3-f5f9038e47f8"
      },
      "execution_count": null,
      "outputs": [
        {
          "output_type": "display_data",
          "data": {
            "text/plain": [
              "<Figure size 432x288 with 1 Axes>"
            ],
            "image/png": "[encoded data removed]"
          },
          "metadata": {
            "needs_background": "light"
          }
        }
      ]
    },
    {
      "cell_type": "code",
      "source": [
        "solucion_2='c'"
      ],
      "metadata": {
        "id": "Q7yxZr2fqmmc"
      },
      "execution_count": null,
      "outputs": []
    },
    {
      "cell_type": "markdown",
      "source": [
        "#Pregunta 3\n",
        "\n",
        "Analiza también mediante un histograma y/o un gráfico de densidad la distribucción de las impresiones que vienen de la sección explorar, es decir, del sistema de recomendación de Instagram.\n",
        "\n"
      ],
      "metadata": {
        "id": "gPbh4Bqiq6di"
      }
    },
    {
      "cell_type": "code",
      "source": [
        "plt.hist(data['From Explore'])\n",
        "plt.show()"
      ],
      "metadata": {
        "id": "uGqHoYz3rlQA",
        "colab": {
          "base_uri": "https://localhost:8080/",
          "height": 265
        },
        "outputId": "91d804fa-e228-46e4-943d-0ed0365bcd69"
      },
      "execution_count": null,
      "outputs": [
        {
          "output_type": "display_data",
          "data": {
            "text/plain": [
              "<Figure size 432x288 with 1 Axes>"
            ],
            "image/png": "[encoded data removed]"
          },
          "metadata": {
            "needs_background": "light"
          }
        }
      ]
    },
    {
      "cell_type": "markdown",
      "source": [
        "¿A qué distribución se parece más a la de las impresiones recibidas desde el inicio o las recibidas por hashtag? Responde en la variable solucion_3 con 'home' o 'hashtags' según consideres que es más parecida."
      ],
      "metadata": {
        "id": "XuYFAW1UryTn"
      }
    },
    {
      "cell_type": "code",
      "source": [
        "solucion_3='hashtags'"
      ],
      "metadata": {
        "id": "txqmhgq5sRj9"
      },
      "execution_count": null,
      "outputs": []
    },
    {
      "cell_type": "markdown",
      "source": [
        "#Pregunta 4\n",
        "\n",
        "Una vez analizado cada fuente de impresiones por separado realiza un gráfico de tarta para comprobar las cantidades totales que vienen de cada fuente. Incluye el porcentaje dentro del gráfico con formato '%.2f%%' y los nombres de las columnas como etiquetas."
      ],
      "metadata": {
        "id": "2mn_7_EVsewz"
      }
    },
    {
      "cell_type": "code",
      "source": [
        "\n",
        "From = data[['From Home', 'From Hashtags', 'From Explore', 'From Other']]\n",
        "\n",
        "From_result = From.sum(axis=0)\n",
        "\n",
        "datos = ['From Home', 'From Hashtags', 'From Explore', 'From Other']\n",
        "\n",
        "plt.pie(From_result, labels=datos, autopct='%.2f%%')\n",
        "\n",
        "plt.show()"
      ],
      "metadata": {
        "id": "xSaOj14Hs56C",
        "colab": {
          "base_uri": "https://localhost:8080/",
          "height": 248
        },
        "outputId": "c9cdd67e-7ede-4728-82cf-b393ddf13c05"
      },
      "execution_count": null,
      "outputs": [
        {
          "output_type": "display_data",
          "data": {
            "text/plain": [
              "<Figure size 432x288 with 1 Axes>"
            ],
            "image/png": "[encoded data removed]"
          },
          "metadata": {}
        }
      ]
    },
    {
      "cell_type": "markdown",
      "source": [
        "Almacena True (booleano) en la variable solucion_4 si la suma de impresiones totales recibidas a través de Hashtags y la sección explorar es mayor que las impresiones totales recibidas desde la sección de inicio, sino almacena False."
      ],
      "metadata": {
        "id": "onJcztjouL_0"
      }
    },
    {
      "cell_type": "code",
      "source": [
        "solucion_4=False"
      ],
      "metadata": {
        "id": "XXG2oNQLuvSq"
      },
      "execution_count": null,
      "outputs": []
    },
    {
      "cell_type": "markdown",
      "source": [
        "#Pregunta 5\n",
        "\n",
        "Vamos a analizar algunas relaciones entre variables, por ejemplo:\n",
        "\n",
        "¿Están relacionadas las columnas 'Impresiones' y 'Likes'? Crea un gráfico de dispersión cuyo eje x sean las impresiones, el eje y los likes y los puntos tengan distinto tamaño en función de los likes."
      ],
      "metadata": {
        "id": "IhSkVw55u-Cx"
      }
    },
    {
      "cell_type": "code",
      "source": [
        "x = data['Impressions']\n",
        "y = data['Likes']\n",
        "\n",
        "\n",
        "  \n",
        "size = [1 * n for n in y]\n",
        "plt.scatter(x, y, s=size)\n",
        "\n",
        "plt.show()  "
      ],
      "metadata": {
        "id": "fL_rUrhmvRy4",
        "colab": {
          "base_uri": "https://localhost:8080/",
          "height": 265
        },
        "outputId": "9ded3aff-fc44-4ff8-b2a1-c0bdb5f4d012"
      },
      "execution_count": null,
      "outputs": [
        {
          "output_type": "display_data",
          "data": {
            "text/plain": [
              "<Figure size 432x288 with 1 Axes>"
            ],
            "image/png": "[encoded data removed]"
          },
          "metadata": {
            "needs_background": "light"
          }
        }
      ]
    },
    {
      "cell_type": "markdown",
      "source": [
        "Realiza el mismo tipo de gráfico para comprobar si existe relación entre las impresiones y el número de comentarios."
      ],
      "metadata": {
        "id": "t7N02wJnwvGT"
      }
    },
    {
      "cell_type": "code",
      "source": [
        "x = data['Impressions']\n",
        "y = data['Comments']\n",
        "\n",
        "size = [1.5 * n for n in y]\n",
        "plt.scatter(x, y, s=size)\n",
        "\n",
        "plt.show()"
      ],
      "metadata": {
        "id": "2R-q2t-cw8JY",
        "colab": {
          "base_uri": "https://localhost:8080/",
          "height": 265
        },
        "outputId": "2f6d6331-59ae-44ba-bf8a-e087300aaa56"
      },
      "execution_count": null,
      "outputs": [
        {
          "output_type": "display_data",
          "data": {
            "text/plain": [
              "<Figure size 432x288 with 1 Axes>"
            ],
            "image/png": "[encoded data removed]"
          },
          "metadata": {
            "needs_background": "light"
          }
        }
      ]
    },
    {
      "cell_type": "markdown",
      "source": [
        "Almacena en la variable solución_5 la letra de la frase correcta:\n",
        "\n",
        "a) Tanto los likes como los comentarios están relacionados con las impresiones.\n",
        "\n",
        "b) Los likes están relacionados con las impresiones pero los comentarios no.\n",
        "\n",
        "c) Los comentarios están relacionados con las impresiones pero los likes no.\n",
        "\n",
        "d) Ni los likes ni los comentarios están relacionados con las impresiones."
      ],
      "metadata": {
        "id": "GX4m6S-5xIRf"
      }
    },
    {
      "cell_type": "code",
      "source": [
        "solucion_5='b'"
      ],
      "metadata": {
        "id": "7lhtIwOSxon2"
      },
      "execution_count": null,
      "outputs": []
    },
    {
      "cell_type": "markdown",
      "source": [
        "#Pregunta 6\n",
        "\n",
        "En Matemáticas para Data Science vimos como calcular la correlación entre las columnas de una matriz usando:\n",
        "\n",
        "    np.corrcoef('nombre_matriz'))\n",
        "\n",
        "Podemos comprobar la correlación de un dataframe entero de forma similar utilizando:\n",
        "\n",
        "    nombre_dataframe.corr()\n",
        "\n",
        "\n",
        "Utiliza el valor de correlación entre columnas para generar un mapa de calor con estilo de color 'hot' y plt.colorbar() para mostrar la leyenda del gráfico y plt.yticks para añadir etiquetas al eje y."
      ],
      "metadata": {
        "id": "UFR3StHaybEa"
      }
    },
    {
      "cell_type": "code",
      "source": [
        "data.corr()\n",
        "\n",
        "plt.imshow(data.corr(), cmap='hot', interpolation='nearest')\n",
        "plt.colorbar()\n",
        "plt.yticks([0,1,2,3,4,5,6,7,8,9,10], labels=['Impressions','From Home','From Hashtags','From Explore','From Other','Saves','Comments','Shares','Likes','Profile Visits','Follows'])\n",
        "plt.xticks([0,1,2,3,4,5,6,7,8,9,10], labels=['I','Ho','Ha','Exp','Oth','Sv','Co','Shr','Lks','Vi','Fol'])\n",
        "plt.show"
      ],
      "metadata": {
        "id": "cxSqAESTzXy-",
        "colab": {
          "base_uri": "https://localhost:8080/",
          "height": 286
        },
        "outputId": "5a7b1e5e-ccce-436e-8677-830807555ff1"
      },
      "execution_count": null,
      "outputs": [
        {
          "output_type": "execute_result",
          "data": {
            "text/plain": [
              "<function matplotlib.pyplot.show(*args, **kw)>"
            ]
          },
          "metadata": {},
          "execution_count": 19
        },
        {
          "output_type": "display_data",
          "data": {
            "text/plain": [
              "<Figure size 432x288 with 2 Axes>"
            ],
            "image/png": "[encoded data removed]"
          },
          "metadata": {
            "needs_background": "light"
          }
        }
      ]
    },
    {
      "cell_type": "markdown",
      "source": [
        "¿A que relación corresponden los cuadrados de color negro? Almacena la letra de la respuesta correcta en la variable pregunta 6\n",
        "\n",
        "a) Impressions-From Hashtags\n",
        "\n",
        "b) Follows-Profile Visits\n",
        "\n",
        "c) Shares-Likes\n",
        "\n",
        "d) Comments-From Others"
      ],
      "metadata": {
        "id": "7spBhIOJ1jrt"
      }
    },
    {
      "cell_type": "code",
      "source": [
        "solucion_6='d'"
      ],
      "metadata": {
        "id": "JYIvke5Z4Qri"
      },
      "execution_count": null,
      "outputs": []
    },
    {
      "cell_type": "markdown",
      "source": [
        "¿Cuál es la acción que más relacionada está con los follows? Escribe el nombre de la columna que corresponda en la variable solucion_7."
      ],
      "metadata": {
        "id": "27Bg7u2y4UM_"
      }
    },
    {
      "cell_type": "code",
      "source": [
        "solucion_7='Profile Visits'"
      ],
      "metadata": {
        "id": "xEfYi2oB4i_Y"
      },
      "execution_count": null,
      "outputs": []
    },
    {
      "cell_type": "code",
      "source": [
        "#@title Ejecuta para obtener el token\n",
        "import hashlib\n",
        "\n",
        "correct = str(solucion_1)+ str(solucion_2)+ str(solucion_3)+ str(solucion_4)+ str(solucion_5)+ str(solucion_6)+ str(solucion_7)\n",
        "pwd = hashlib.sha256(str(correct).encode())\n",
        "#print('El token para corregir en Nodd3r es:\\n',pwd.hexdigest())\n",
        "if pwd.hexdigest()[0:6] == '4ad819':\n",
        "  print('¡Felicidades! puedes avanzar al siguiente modulo \\n El token es: ',pwd.hexdigest())\n",
        "else:\n",
        "  print('Hay algún error en el código o tu forma es diferente a la planteada, pregunta por el foro si no lo ves claro.')"
      ],
      "metadata": {
        "id": "w8uzBacT4p7f",
        "colab": {
          "base_uri": "https://localhost:8080/"
        },
        "outputId": "1db7a148-c32f-49a8-8f54-eba190b22c3c"
      },
      "execution_count": null,
      "outputs": [
        {
          "output_type": "stream",
          "name": "stdout",
          "text": [
            "¡Felicidades! puedes avanzar al siguiente modulo \n",
            " El token es:  4ad819b999221644c9e42f06eec0db6789532df5b97de2a7daa0d1caea7de812\n"
          ]
        }
      ]
    },
    {
      "cell_type": "markdown",
      "source": [
        "#Bonus: Introducción a Machine Learning\n",
        "\n",
        "Como adelanto de lo que aprenderéis en el próximo curso vamos a predecir el alcance que tendría un post en instagram en funcion del número de Likes, veces que ha sido guardado, cantidad de comentarios, veces compartido,visitas al perfil y seguidores."
      ],
      "metadata": {
        "id": "Ut0njvkJ4waA"
      }
    },
    {
      "cell_type": "code",
      "source": [
        "#Importamos de sklearn lo que necesitaremos\n",
        "from sklearn.model_selection import train_test_split\n",
        "from sklearn.linear_model import PassiveAggressiveRegressor"
      ],
      "metadata": {
        "id": "2l84vnlV6zqP"
      },
      "execution_count": null,
      "outputs": []
    },
    {
      "cell_type": "code",
      "source": [
        "#Seleccionamos los datos que utilizaremos para predecir (x) y los datos que queremos medir (y)\n",
        "x = np.array(data[['Likes', 'Saves', 'Comments', 'Shares', \n",
        "                   'Profile Visits', 'Follows']])\n",
        "y = np.array(data[\"Impressions\"])\n",
        "#los dividimos en dos partes, la primera para entrenar el algoritmo y la segunda para testearlo.\n",
        "xtrain, xtest, ytrain, ytest = train_test_split(x, y, \n",
        "                                                test_size=0.2, \n",
        "                                                random_state=42)"
      ],
      "metadata": {
        "id": "ec15CR8G5eCW"
      },
      "execution_count": null,
      "outputs": []
    },
    {
      "cell_type": "code",
      "source": [
        "#Utilizamos un modelo de regresión para entrenar el algoritmo y comprobar los resultados con los datos de test\n",
        "model = PassiveAggressiveRegressor()\n",
        "model.fit(xtrain, ytrain)\n",
        "model.score(xtest, ytest)"
      ],
      "metadata": {
        "id": "H02kTD2r577E",
        "colab": {
          "base_uri": "https://localhost:8080/",
          "height": 358
        },
        "outputId": "bcc301d4-aa7a-4a59-b1a5-36a2ef90f372"
      },
      "execution_count": null,
      "outputs": [
        {
          "output_type": "error",
          "ename": "ValueError",
          "evalue": "ignored",
          "traceback": [
            "\u001b[0;31m---------------------------------------------------------------------------\u001b[0m",
            "\u001b[0;31mValueError\u001b[0m                                Traceback (most recent call last)",
            "\u001b[0;32m<ipython-input-33-43fccf808dad>\u001b[0m in \u001b[0;36m<module>\u001b[0;34m\u001b[0m\n\u001b[1;32m      1\u001b[0m \u001b[0;31m#Utilizamos un modelo de regresión para entrenar el algoritmo y comprobar los resultados con los datos de test\u001b[0m\u001b[0;34m\u001b[0m\u001b[0;34m\u001b[0m\u001b[0;34m\u001b[0m\u001b[0m\n\u001b[1;32m      2\u001b[0m \u001b[0mmodel\u001b[0m \u001b[0;34m=\u001b[0m \u001b[0mPassiveAggressiveRegressor\u001b[0m\u001b[0;34m(\u001b[0m\u001b[0;34m)\u001b[0m\u001b[0;34m\u001b[0m\u001b[0;34m\u001b[0m\u001b[0m\n\u001b[0;32m----> 3\u001b[0;31m \u001b[0mmodel\u001b[0m\u001b[0;34m.\u001b[0m\u001b[0mfit\u001b[0m\u001b[0;34m(\u001b[0m\u001b[0mxtrain\u001b[0m\u001b[0;34m,\u001b[0m \u001b[0mytrain\u001b[0m\u001b[0;34m)\u001b[0m\u001b[0;34m\u001b[0m\u001b[0;34m\u001b[0m\u001b[0m\n\u001b[0m\u001b[1;32m      4\u001b[0m \u001b[0mmodel\u001b[0m\u001b[0;34m.\u001b[0m\u001b[0mscore\u001b[0m\u001b[0;34m(\u001b[0m\u001b[0mxtest\u001b[0m\u001b[0;34m,\u001b[0m \u001b[0mytest\u001b[0m\u001b[0;34m)\u001b[0m\u001b[0;34m\u001b[0m\u001b[0;34m\u001b[0m\u001b[0m\n",
            "\u001b[0;32m/usr/local/lib/python3.7/dist-packages/sklearn/linear_model/_passive_aggressive.py\u001b[0m in \u001b[0;36mfit\u001b[0;34m(self, X, y, coef_init, intercept_init)\u001b[0m\n\u001b[1;32m    547\u001b[0m             \u001b[0mlearning_rate\u001b[0m\u001b[0;34m=\u001b[0m\u001b[0mlr\u001b[0m\u001b[0;34m,\u001b[0m\u001b[0;34m\u001b[0m\u001b[0;34m\u001b[0m\u001b[0m\n\u001b[1;32m    548\u001b[0m             \u001b[0mcoef_init\u001b[0m\u001b[0;34m=\u001b[0m\u001b[0mcoef_init\u001b[0m\u001b[0;34m,\u001b[0m\u001b[0;34m\u001b[0m\u001b[0;34m\u001b[0m\u001b[0m\n\u001b[0;32m--> 549\u001b[0;31m             \u001b[0mintercept_init\u001b[0m\u001b[0;34m=\u001b[0m\u001b[0mintercept_init\u001b[0m\u001b[0;34m,\u001b[0m\u001b[0;34m\u001b[0m\u001b[0;34m\u001b[0m\u001b[0m\n\u001b[0m\u001b[1;32m    550\u001b[0m         )\n",
            "\u001b[0;32m/usr/local/lib/python3.7/dist-packages/sklearn/linear_model/_stochastic_gradient.py\u001b[0m in \u001b[0;36m_fit\u001b[0;34m(self, X, y, alpha, C, loss, learning_rate, coef_init, intercept_init, sample_weight)\u001b[0m\n\u001b[1;32m   1493\u001b[0m             \u001b[0msample_weight\u001b[0m\u001b[0;34m,\u001b[0m\u001b[0;34m\u001b[0m\u001b[0;34m\u001b[0m\u001b[0m\n\u001b[1;32m   1494\u001b[0m             \u001b[0mcoef_init\u001b[0m\u001b[0;34m,\u001b[0m\u001b[0;34m\u001b[0m\u001b[0;34m\u001b[0m\u001b[0m\n\u001b[0;32m-> 1495\u001b[0;31m             \u001b[0mintercept_init\u001b[0m\u001b[0;34m,\u001b[0m\u001b[0;34m\u001b[0m\u001b[0;34m\u001b[0m\u001b[0m\n\u001b[0m\u001b[1;32m   1496\u001b[0m         )\n\u001b[1;32m   1497\u001b[0m \u001b[0;34m\u001b[0m\u001b[0m\n",
            "\u001b[0;32m/usr/local/lib/python3.7/dist-packages/sklearn/linear_model/_stochastic_gradient.py\u001b[0m in \u001b[0;36m_partial_fit\u001b[0;34m(self, X, y, alpha, C, loss, learning_rate, max_iter, sample_weight, coef_init, intercept_init)\u001b[0m\n\u001b[1;32m   1398\u001b[0m             \u001b[0mdtype\u001b[0m\u001b[0;34m=\u001b[0m\u001b[0mnp\u001b[0m\u001b[0;34m.\u001b[0m\u001b[0mfloat64\u001b[0m\u001b[0;34m,\u001b[0m\u001b[0;34m\u001b[0m\u001b[0;34m\u001b[0m\u001b[0m\n\u001b[1;32m   1399\u001b[0m             \u001b[0maccept_large_sparse\u001b[0m\u001b[0;34m=\u001b[0m\u001b[0;32mFalse\u001b[0m\u001b[0;34m,\u001b[0m\u001b[0;34m\u001b[0m\u001b[0;34m\u001b[0m\u001b[0m\n\u001b[0;32m-> 1400\u001b[0;31m             \u001b[0mreset\u001b[0m\u001b[0;34m=\u001b[0m\u001b[0mfirst_call\u001b[0m\u001b[0;34m,\u001b[0m\u001b[0;34m\u001b[0m\u001b[0;34m\u001b[0m\u001b[0m\n\u001b[0m\u001b[1;32m   1401\u001b[0m         )\n\u001b[1;32m   1402\u001b[0m         \u001b[0my\u001b[0m \u001b[0;34m=\u001b[0m \u001b[0my\u001b[0m\u001b[0;34m.\u001b[0m\u001b[0mastype\u001b[0m\u001b[0;34m(\u001b[0m\u001b[0mnp\u001b[0m\u001b[0;34m.\u001b[0m\u001b[0mfloat64\u001b[0m\u001b[0;34m,\u001b[0m \u001b[0mcopy\u001b[0m\u001b[0;34m=\u001b[0m\u001b[0;32mFalse\u001b[0m\u001b[0;34m)\u001b[0m\u001b[0;34m\u001b[0m\u001b[0;34m\u001b[0m\u001b[0m\n",
            "\u001b[0;32m/usr/local/lib/python3.7/dist-packages/sklearn/base.py\u001b[0m in \u001b[0;36m_validate_data\u001b[0;34m(self, X, y, reset, validate_separately, **check_params)\u001b[0m\n\u001b[1;32m    579\u001b[0m                 \u001b[0my\u001b[0m \u001b[0;34m=\u001b[0m \u001b[0mcheck_array\u001b[0m\u001b[0;34m(\u001b[0m\u001b[0my\u001b[0m\u001b[0;34m,\u001b[0m \u001b[0;34m**\u001b[0m\u001b[0mcheck_y_params\u001b[0m\u001b[0;34m)\u001b[0m\u001b[0;34m\u001b[0m\u001b[0;34m\u001b[0m\u001b[0m\n\u001b[1;32m    580\u001b[0m             \u001b[0;32melse\u001b[0m\u001b[0;34m:\u001b[0m\u001b[0;34m\u001b[0m\u001b[0;34m\u001b[0m\u001b[0m\n\u001b[0;32m--> 581\u001b[0;31m                 \u001b[0mX\u001b[0m\u001b[0;34m,\u001b[0m \u001b[0my\u001b[0m \u001b[0;34m=\u001b[0m \u001b[0mcheck_X_y\u001b[0m\u001b[0;34m(\u001b[0m\u001b[0mX\u001b[0m\u001b[0;34m,\u001b[0m \u001b[0my\u001b[0m\u001b[0;34m,\u001b[0m \u001b[0;34m**\u001b[0m\u001b[0mcheck_params\u001b[0m\u001b[0;34m)\u001b[0m\u001b[0;34m\u001b[0m\u001b[0;34m\u001b[0m\u001b[0m\n\u001b[0m\u001b[1;32m    582\u001b[0m             \u001b[0mout\u001b[0m \u001b[0;34m=\u001b[0m \u001b[0mX\u001b[0m\u001b[0;34m,\u001b[0m \u001b[0my\u001b[0m\u001b[0;34m\u001b[0m\u001b[0;34m\u001b[0m\u001b[0m\n\u001b[1;32m    583\u001b[0m \u001b[0;34m\u001b[0m\u001b[0m\n",
            "\u001b[0;32m/usr/local/lib/python3.7/dist-packages/sklearn/utils/validation.py\u001b[0m in \u001b[0;36mcheck_X_y\u001b[0;34m(X, y, accept_sparse, accept_large_sparse, dtype, order, copy, force_all_finite, ensure_2d, allow_nd, multi_output, ensure_min_samples, ensure_min_features, y_numeric, estimator)\u001b[0m\n\u001b[1;32m    974\u001b[0m         \u001b[0mensure_min_samples\u001b[0m\u001b[0;34m=\u001b[0m\u001b[0mensure_min_samples\u001b[0m\u001b[0;34m,\u001b[0m\u001b[0;34m\u001b[0m\u001b[0;34m\u001b[0m\u001b[0m\n\u001b[1;32m    975\u001b[0m         \u001b[0mensure_min_features\u001b[0m\u001b[0;34m=\u001b[0m\u001b[0mensure_min_features\u001b[0m\u001b[0;34m,\u001b[0m\u001b[0;34m\u001b[0m\u001b[0;34m\u001b[0m\u001b[0m\n\u001b[0;32m--> 976\u001b[0;31m         \u001b[0mestimator\u001b[0m\u001b[0;34m=\u001b[0m\u001b[0mestimator\u001b[0m\u001b[0;34m,\u001b[0m\u001b[0;34m\u001b[0m\u001b[0;34m\u001b[0m\u001b[0m\n\u001b[0m\u001b[1;32m    977\u001b[0m     )\n\u001b[1;32m    978\u001b[0m \u001b[0;34m\u001b[0m\u001b[0m\n",
            "\u001b[0;32m/usr/local/lib/python3.7/dist-packages/sklearn/utils/validation.py\u001b[0m in \u001b[0;36mcheck_array\u001b[0;34m(array, accept_sparse, accept_large_sparse, dtype, order, copy, force_all_finite, ensure_2d, allow_nd, ensure_min_samples, ensure_min_features, estimator)\u001b[0m\n\u001b[1;32m    798\u001b[0m \u001b[0;34m\u001b[0m\u001b[0m\n\u001b[1;32m    799\u001b[0m         \u001b[0;32mif\u001b[0m \u001b[0mforce_all_finite\u001b[0m\u001b[0;34m:\u001b[0m\u001b[0;34m\u001b[0m\u001b[0;34m\u001b[0m\u001b[0m\n\u001b[0;32m--> 800\u001b[0;31m             \u001b[0m_assert_all_finite\u001b[0m\u001b[0;34m(\u001b[0m\u001b[0marray\u001b[0m\u001b[0;34m,\u001b[0m \u001b[0mallow_nan\u001b[0m\u001b[0;34m=\u001b[0m\u001b[0mforce_all_finite\u001b[0m \u001b[0;34m==\u001b[0m \u001b[0;34m\"allow-nan\"\u001b[0m\u001b[0;34m)\u001b[0m\u001b[0;34m\u001b[0m\u001b[0;34m\u001b[0m\u001b[0m\n\u001b[0m\u001b[1;32m    801\u001b[0m \u001b[0;34m\u001b[0m\u001b[0m\n\u001b[1;32m    802\u001b[0m     \u001b[0;32mif\u001b[0m \u001b[0mensure_min_samples\u001b[0m \u001b[0;34m>\u001b[0m \u001b[0;36m0\u001b[0m\u001b[0;34m:\u001b[0m\u001b[0;34m\u001b[0m\u001b[0;34m\u001b[0m\u001b[0m\n",
            "\u001b[0;32m/usr/local/lib/python3.7/dist-packages/sklearn/utils/validation.py\u001b[0m in \u001b[0;36m_assert_all_finite\u001b[0;34m(X, allow_nan, msg_dtype)\u001b[0m\n\u001b[1;32m    114\u001b[0m             raise ValueError(\n\u001b[1;32m    115\u001b[0m                 msg_err.format(\n\u001b[0;32m--> 116\u001b[0;31m                     \u001b[0mtype_err\u001b[0m\u001b[0;34m,\u001b[0m \u001b[0mmsg_dtype\u001b[0m \u001b[0;32mif\u001b[0m \u001b[0mmsg_dtype\u001b[0m \u001b[0;32mis\u001b[0m \u001b[0;32mnot\u001b[0m \u001b[0;32mNone\u001b[0m \u001b[0;32melse\u001b[0m \u001b[0mX\u001b[0m\u001b[0;34m.\u001b[0m\u001b[0mdtype\u001b[0m\u001b[0;34m\u001b[0m\u001b[0;34m\u001b[0m\u001b[0m\n\u001b[0m\u001b[1;32m    117\u001b[0m                 )\n\u001b[1;32m    118\u001b[0m             )\n",
            "\u001b[0;31mValueError\u001b[0m: Input contains NaN, infinity or a value too large for dtype('float64')."
          ]
        }
      ]
    },
    {
      "cell_type": "code",
      "source": [
        "#Realizamos la predicción en funcion de los parámetros seleccionados (features=[['Likes','Saves', 'Comments', 'Shares', 'Profile Visits', 'Follows']])\n",
        "features = np.array([[282.0, 233.0, 4.0, 9.0, 165.0, 54.0]])\n",
        "model.predict(features)"
      ],
      "metadata": {
        "id": "2rpouMyw6SNI",
        "colab": {
          "base_uri": "https://localhost:8080/",
          "height": 341
        },
        "outputId": "402cc19a-8fc2-4247-8b49-c4ff8d71d3f7"
      },
      "execution_count": null,
      "outputs": [
        {
          "output_type": "error",
          "ename": "AttributeError",
          "evalue": "ignored",
          "traceback": [
            "\u001b[0;31m---------------------------------------------------------------------------\u001b[0m",
            "\u001b[0;31mAttributeError\u001b[0m                            Traceback (most recent call last)",
            "\u001b[0;32m<ipython-input-34-c32867ceda2e>\u001b[0m in \u001b[0;36m<module>\u001b[0;34m\u001b[0m\n\u001b[1;32m      1\u001b[0m \u001b[0;31m#Realizamos la predicción en funcion de los parámetros seleccionados (features=[['Likes','Saves', 'Comments', 'Shares', 'Profile Visits', 'Follows']])\u001b[0m\u001b[0;34m\u001b[0m\u001b[0;34m\u001b[0m\u001b[0;34m\u001b[0m\u001b[0m\n\u001b[1;32m      2\u001b[0m \u001b[0mfeatures\u001b[0m \u001b[0;34m=\u001b[0m \u001b[0mnp\u001b[0m\u001b[0;34m.\u001b[0m\u001b[0marray\u001b[0m\u001b[0;34m(\u001b[0m\u001b[0;34m[\u001b[0m\u001b[0;34m[\u001b[0m\u001b[0;36m282.0\u001b[0m\u001b[0;34m,\u001b[0m \u001b[0;36m233.0\u001b[0m\u001b[0;34m,\u001b[0m \u001b[0;36m4.0\u001b[0m\u001b[0;34m,\u001b[0m \u001b[0;36m9.0\u001b[0m\u001b[0;34m,\u001b[0m \u001b[0;36m165.0\u001b[0m\u001b[0;34m,\u001b[0m \u001b[0;36m54.0\u001b[0m\u001b[0;34m]\u001b[0m\u001b[0;34m]\u001b[0m\u001b[0;34m)\u001b[0m\u001b[0;34m\u001b[0m\u001b[0;34m\u001b[0m\u001b[0m\n\u001b[0;32m----> 3\u001b[0;31m \u001b[0mmodel\u001b[0m\u001b[0;34m.\u001b[0m\u001b[0mpredict\u001b[0m\u001b[0;34m(\u001b[0m\u001b[0mfeatures\u001b[0m\u001b[0;34m)\u001b[0m\u001b[0;34m\u001b[0m\u001b[0;34m\u001b[0m\u001b[0m\n\u001b[0m",
            "\u001b[0;32m/usr/local/lib/python3.7/dist-packages/sklearn/linear_model/_stochastic_gradient.py\u001b[0m in \u001b[0;36mpredict\u001b[0;34m(self, X)\u001b[0m\n\u001b[1;32m   1579\u001b[0m            \u001b[0mPredicted\u001b[0m \u001b[0mtarget\u001b[0m \u001b[0mvalues\u001b[0m \u001b[0mper\u001b[0m \u001b[0melement\u001b[0m \u001b[0;32min\u001b[0m \u001b[0mX\u001b[0m\u001b[0;34m.\u001b[0m\u001b[0;34m\u001b[0m\u001b[0;34m\u001b[0m\u001b[0m\n\u001b[1;32m   1580\u001b[0m         \"\"\"\n\u001b[0;32m-> 1581\u001b[0;31m         \u001b[0;32mreturn\u001b[0m \u001b[0mself\u001b[0m\u001b[0;34m.\u001b[0m\u001b[0m_decision_function\u001b[0m\u001b[0;34m(\u001b[0m\u001b[0mX\u001b[0m\u001b[0;34m)\u001b[0m\u001b[0;34m\u001b[0m\u001b[0;34m\u001b[0m\u001b[0m\n\u001b[0m\u001b[1;32m   1582\u001b[0m \u001b[0;34m\u001b[0m\u001b[0m\n\u001b[1;32m   1583\u001b[0m     def _fit_regressor(\n",
            "\u001b[0;32m/usr/local/lib/python3.7/dist-packages/sklearn/linear_model/_stochastic_gradient.py\u001b[0m in \u001b[0;36m_decision_function\u001b[0;34m(self, X)\u001b[0m\n\u001b[1;32m   1563\u001b[0m         \u001b[0mX\u001b[0m \u001b[0;34m=\u001b[0m \u001b[0mself\u001b[0m\u001b[0;34m.\u001b[0m\u001b[0m_validate_data\u001b[0m\u001b[0;34m(\u001b[0m\u001b[0mX\u001b[0m\u001b[0;34m,\u001b[0m \u001b[0maccept_sparse\u001b[0m\u001b[0;34m=\u001b[0m\u001b[0;34m\"csr\"\u001b[0m\u001b[0;34m,\u001b[0m \u001b[0mreset\u001b[0m\u001b[0;34m=\u001b[0m\u001b[0;32mFalse\u001b[0m\u001b[0;34m)\u001b[0m\u001b[0;34m\u001b[0m\u001b[0;34m\u001b[0m\u001b[0m\n\u001b[1;32m   1564\u001b[0m \u001b[0;34m\u001b[0m\u001b[0m\n\u001b[0;32m-> 1565\u001b[0;31m         \u001b[0mscores\u001b[0m \u001b[0;34m=\u001b[0m \u001b[0msafe_sparse_dot\u001b[0m\u001b[0;34m(\u001b[0m\u001b[0mX\u001b[0m\u001b[0;34m,\u001b[0m \u001b[0mself\u001b[0m\u001b[0;34m.\u001b[0m\u001b[0mcoef_\u001b[0m\u001b[0;34m.\u001b[0m\u001b[0mT\u001b[0m\u001b[0;34m,\u001b[0m \u001b[0mdense_output\u001b[0m\u001b[0;34m=\u001b[0m\u001b[0;32mTrue\u001b[0m\u001b[0;34m)\u001b[0m \u001b[0;34m+\u001b[0m \u001b[0mself\u001b[0m\u001b[0;34m.\u001b[0m\u001b[0mintercept_\u001b[0m\u001b[0;34m\u001b[0m\u001b[0;34m\u001b[0m\u001b[0m\n\u001b[0m\u001b[1;32m   1566\u001b[0m         \u001b[0;32mreturn\u001b[0m \u001b[0mscores\u001b[0m\u001b[0;34m.\u001b[0m\u001b[0mravel\u001b[0m\u001b[0;34m(\u001b[0m\u001b[0;34m)\u001b[0m\u001b[0;34m\u001b[0m\u001b[0;34m\u001b[0m\u001b[0m\n\u001b[1;32m   1567\u001b[0m \u001b[0;34m\u001b[0m\u001b[0m\n",
            "\u001b[0;31mAttributeError\u001b[0m: 'NoneType' object has no attribute 'T'"
          ]
        }
      ]
    }
  ]
}